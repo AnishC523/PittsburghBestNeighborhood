{
 "cells": [
  {
   "cell_type": "markdown",
   "metadata": {},
   "source": [
    "# Introduction"
   ]
  },
  {
   "cell_type": "markdown",
   "metadata": {},
   "source": [
    "**Welcome to team JAKK's final notebook!**\n",
    "In this project, we wanted to find the BEST neighborhood in Pittsburgh. To do that, we used a metric based on one of America's biggest symbols of freedom: the vehicle.\n",
    "\n",
    "In our project, we looked at 4 different datasets for 4 different submetrics:\n",
    "* Police Incidents\n",
    "* Traffic count\n",
    "* Bridges\n",
    "* Speed Hump\n",
    "\n",
    "All of these relate to vehicular transportation in some shape or form, which we will explain later. We thought of this metric because when a neighborhood is easily able to be traveled through, then that means that it is stress free and leisurely. Additionally, there was a lot of data on metrics that related to vehicular transportation. \n",
    "\n",
    "Another metric that we considered pursuing would be a neighborhood's orientation towards nature, which includes parks and greenspaces, but the datasets didn't work out as well for that one."
   ]
  },
  {
   "cell_type": "markdown",
   "metadata": {},
   "source": [
    "# The Metric"
   ]
  },
  {
   "cell_type": "markdown",
   "metadata": {},
   "source": [
    "Our Metric: **Feasabiltiy of Vehicles!**\n",
    "Our Datasets (plus an explaination):\n",
    "* Police Incidents\n",
    "    * The higher the amount of police incidents, the harder it might be to travel through an area. Additionally, the more likely that your car will be robbed.\n",
    "* Traffic count\n",
    "    * The higher the traffic count, the harder it will be to traverse through a neighborhood. Additionally, more traffic will indicate a noisier, more congested neighborhood.\n",
    "* Bridges\n",
    "    * Pittsburgh is known for its Bridges. Bridges are nice looking. Bridges allow vehicles to go over water channels. More bridges are good.\n",
    "* Speed Hump\n",
    "    * Speed humps could be an indicator of a residential area. More speed humps impede the traffic flow. We want smooth sailling, so less speed humps is better!\n",
    "\n",
    "Overall, this metric uses the lens of the vehicle to see Pittsburgh through the eyes of its transportation. By doing this, it includes scenery through bridges, congestion through traffic, safety through police incidents, and the ability to go fast through speed humps. "
   ]
  },
  {
   "cell_type": "markdown",
   "metadata": {},
   "source": [
    "# The Best Neighborhood"
   ]
  },
  {
   "cell_type": "markdown",
   "metadata": {},
   "source": [
    "INSERT CODE, ANALYSIS..."
   ]
  },
  {
   "cell_type": "markdown",
   "metadata": {},
   "source": [
    "# Conclusion\n"
   ]
  },
  {
   "cell_type": "code",
   "execution_count": null,
   "metadata": {},
   "outputs": [],
   "source": []
  }
 ],
 "metadata": {
  "kernelspec": {
   "display_name": "Python 3",
   "language": "python",
   "name": "python3"
  },
  "language_info": {
   "codemirror_mode": {
    "name": "ipython",
    "version": 3
   },
   "file_extension": ".py",
   "mimetype": "text/x-python",
   "name": "python",
   "nbconvert_exporter": "python",
   "pygments_lexer": "ipython3",
   "version": "3.8.3"
  }
 },
 "nbformat": 4,
 "nbformat_minor": 4
}
